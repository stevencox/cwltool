{
 "cells": [
  {
   "cell_type": "code",
   "execution_count": null,
   "metadata": {},
   "outputs": [],
   "source": [
    "import wes_client\n",
    "\n",
    "# the cwltool fork that can connect to the data-commons chronos api is accessible via a Workflow Execution Service\n",
    "# https://github.com/ga4gh/workflow-execution-schemas\n",
    "# We are using a slight modification of the CWL implementation: \n",
    "# https://github.com/common-workflow-language/workflow-service\n",
    "\n",
    "# This can be executed via the wes-client command line script:\n",
    "# $ wes-client workflow.cwl workflow-job-datacommons.yml\n",
    "\n",
    "# or by invoking the module from python:\n",
    "wes_client.main([\"workflow.cwl\", \"workflow-job-datacommons.yml\"])\n"
   ]
  },
  {
   "cell_type": "code",
   "execution_count": null,
   "metadata": {},
   "outputs": [],
   "source": []
  }
 ],
 "metadata": {
  "kernelspec": {
   "display_name": "Python 3",
   "language": "python",
   "name": "python3"
  },
  "language_info": {
   "codemirror_mode": {
    "name": "ipython",
    "version": 3
   },
   "file_extension": ".py",
   "mimetype": "text/x-python",
   "name": "python",
   "nbconvert_exporter": "python",
   "pygments_lexer": "ipython3",
   "version": "3.6.3"
  }
 },
 "nbformat": 4,
 "nbformat_minor": 2
}
