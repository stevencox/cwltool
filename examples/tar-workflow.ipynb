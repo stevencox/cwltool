{
 "cells": [
  {
   "cell_type": "code",
   "execution_count": 1,
   "metadata": {},
   "outputs": [
    {
     "name": "stderr",
     "output_type": "stream",
     "text": [
      "2017-12-01 19:36:48,463 __init__.py find_module DEBUG: Running find_module: cwltool.cwlrdf...\n",
      "2017-12-01 19:36:48,466 __init__.py load_module DEBUG: Running load_module for cwltool.cwlrdf...\n",
      "2017-12-01 19:36:48,467 __init__.py load_module DEBUG: Excluded cwltool.cwlrdf from translation\n",
      "2017-12-01 19:36:48,469 __init__.py find_module DEBUG: Running find_module: cwltool.pack...\n",
      "2017-12-01 19:36:48,473 __init__.py load_module DEBUG: Running load_module for cwltool.pack...\n",
      "2017-12-01 19:36:48,475 __init__.py load_module DEBUG: Excluded cwltool.pack from translation\n",
      "2017-12-01 19:36:48,478 __init__.py find_module DEBUG: Running find_module: cwltool.software_requirements...\n",
      "2017-12-01 19:36:48,481 __init__.py load_module DEBUG: Running load_module for cwltool.software_requirements...\n",
      "2017-12-01 19:36:48,486 __init__.py load_module DEBUG: Excluded cwltool.software_requirements from translation\n",
      "2017-12-01 19:36:48,493 __init__.py find_module DEBUG: Running find_module: galaxy...\n",
      "2017-12-01 19:36:48,497 __init__.py find_module DEBUG: Py2Fixer could not find {0}\n",
      "2017-12-01 19:36:48,500 __init__.py find_module DEBUG: Exception was: galaxy)\n",
      "/home/dockeruser/venv/lib64/python3.6/site-packages/ipykernel_launcher.py 1.0.20171201180816\n",
      "2017-12-01 19:36:48,633 main.py main INFO: /home/dockeruser/venv/lib64/python3.6/site-packages/ipykernel_launcher.py 1.0.20171201180816\n",
      "2017-12-01 19:36:48,636 __init__.py find_module DEBUG: Running find_module: rdflib.plugins.memory...\n",
      "2017-12-01 19:36:48,638 __init__.py load_module DEBUG: Running load_module for rdflib.plugins.memory...\n",
      "2017-12-01 19:36:48,640 __init__.py load_module DEBUG: Excluded rdflib.plugins.memory from translation\n",
      "Resolved 'workflow.cwl' to 'file:///home/dockeruser/venv/cwltool/examples/workflow.cwl'\n",
      "2017-12-01 19:36:48,646 load_tool.py fetch_document INFO: Resolved 'workflow.cwl' to 'file:///home/dockeruser/venv/cwltool/examples/workflow.cwl'\n",
      "[workflow workflow.cwl] start\n",
      "2017-12-01 19:36:50,576 workflow.py run INFO: [workflow workflow.cwl] start\n",
      "[step tar_step] start\n",
      "2017-12-01 19:36:50,602 workflow.py job INFO: [step tar_step] start\n",
      "2017-12-01 19:36:50,724 data_commons.py collect_output DEBUG: gb evaluated to: '/renci/irods/test.tar'\n",
      "[step tar_step] completed success\n",
      "2017-12-01 19:36:50,726 workflow.py receive_output INFO: [step tar_step] completed success\n",
      "[step rename_step] start\n",
      "2017-12-01 19:36:50,731 workflow.py job INFO: [step rename_step] start\n",
      "2017-12-01 19:36:50,815 data_commons.py collect_output DEBUG: gb evaluated to: '/renci/irods/testrenamed.tar'\n",
      "[step rename_step] completed success\n",
      "2017-12-01 19:36:50,817 workflow.py receive_output INFO: [step rename_step] completed success\n",
      "[workflow workflow.cwl] completed success\n",
      "2017-12-01 19:36:50,825 workflow.py do_output_callback INFO: [workflow workflow.cwl] completed success\n"
     ]
    },
    {
     "name": "stdout",
     "output_type": "stream",
     "text": [
      "STARS: cmd: ['tar', '-cf', '-', '/renci/irods/test.tar', '/renci/irods/test0', '/renci/irods/test1', '/renci/irods/test2', '/renci/irods/test3', '/renci/irods/test4']\n",
      "adding stdout\n",
      "[job datacommonscwl-20171201_193650.606738] completed success\n",
      "outdir: /renci/irods\n",
      "collect_output_ports finished: {'archive_out': {'location': '/renci/irods/test.tar', 'path': '/renci/irods/test.tar', 'basename': 'test.tar', 'nameroot': 'test', 'nameext': '.tar', 'class': 'File'}}\n",
      "STARS: cmd: ['mv', '/renci/irods/test.tar', '/renci/irods/testrenamed.tar']\n",
      "[job datacommonscwl-20171201_193650.736430] completed success\n",
      "outdir: /renci/irods\n",
      "collect_output_ports finished: {'renamed_file': {'location': '/renci/irods/testrenamed.tar', 'path': '/renci/irods/testrenamed.tar', 'basename': 'testrenamed.tar', 'nameroot': 'testrenamed', 'nameext': '.tar', 'class': 'File'}}\n",
      "{\n",
      "    \"output_archive\": {\n",
      "        \"location\": \"/renci/irods/testrenamed.tar\",\n",
      "        \"basename\": \"testrenamed.tar\",\n",
      "        \"class\": \"File\"\n",
      "    }\n",
      "}\n"
     ]
    },
    {
     "name": "stderr",
     "output_type": "stream",
     "text": [
      "Final process status is success\n",
      "2017-12-01 19:36:50,829 main.py main INFO: Final process status is success\n"
     ]
    },
    {
     "data": {
      "text/plain": [
       "0"
      ]
     },
     "execution_count": 1,
     "metadata": {},
     "output_type": "execute_result"
    }
   ],
   "source": [
    "import cwltool.main\n",
    "cwltool.main.main([\"--data-commons\",\n",
    "                   \"workflow.cwl\",\n",
    "                   \"workflow-job-datacommons.yml\"])"
   ]
  },
  {
   "cell_type": "code",
   "execution_count": null,
   "metadata": {},
   "outputs": [],
   "source": []
  }
 ],
 "metadata": {
  "kernelspec": {
   "display_name": "Python 3",
   "language": "python",
   "name": "python3"
  },
  "language_info": {
   "codemirror_mode": {
    "name": "ipython",
    "version": 3
   },
   "file_extension": ".py",
   "mimetype": "text/x-python",
   "name": "python",
   "nbconvert_exporter": "python",
   "pygments_lexer": "ipython3",
   "version": "3.6.3"
  }
 },
 "nbformat": 4,
 "nbformat_minor": 2
}
